{
 "cells": [
  {
   "cell_type": "code",
   "execution_count": 2,
   "metadata": {},
   "outputs": [
    {
     "data": {
      "text/plain": [
       "array([0, 0, 0, 0, 0, 0, 0, 0, 0, 0], dtype=int32)"
      ]
     },
     "execution_count": 2,
     "metadata": {},
     "output_type": "execute_result"
    }
   ],
   "source": [
    "import numpy as np\n",
    "arr = np.arange(10)\n",
    "#一维数组运算，多维可以指定axis进行运算\n",
    "np.sqrt(arr)\n",
    "np.exp(arr)\n",
    "np.sum(arr)\n",
    "np.mean(arr)\n",
    "np.std(arr)#标准差\n",
    "np.var(arr)#方差\n",
    "np.min(arr)\n",
    "np.argmin(arr)#最小值的位置\n",
    "np.argmax(arr)#最大值的位置\n",
    "np.max(arr)\n",
    "arr.sum(axis=0)\n",
    "np.cumsum(arr)#所有元素累积求和\n",
    "np.cumprod(arr)#所有元素累积求积"
   ]
  },
  {
   "cell_type": "markdown",
   "metadata": {},
   "source": [
    "用于布尔型数组的方法"
   ]
  },
  {
   "cell_type": "code",
   "execution_count": 8,
   "metadata": {},
   "outputs": [
    {
     "data": {
      "text/plain": [
       "False"
      ]
     },
     "execution_count": 8,
     "metadata": {},
     "output_type": "execute_result"
    }
   ],
   "source": [
    "arr = np.random.randn(100)\n",
    "(arr > 0).sum()\n",
    "(arr > 0).any()#判断数组中的值是否存在大于0的数\n",
    "(arr > 0).all()#判断数组中的值是否都大于0"
   ]
  },
  {
   "cell_type": "markdown",
   "metadata": {},
   "source": [
    "排序"
   ]
  },
  {
   "cell_type": "code",
   "execution_count": 14,
   "metadata": {},
   "outputs": [
    {
     "data": {
      "text/plain": [
       "-0.6918456615997771"
      ]
     },
     "execution_count": 14,
     "metadata": {},
     "output_type": "execute_result"
    }
   ],
   "source": [
    "arr = np.random.randn(10)\n",
    "arr.sort()\n",
    "arr\n",
    "#多维数组可以在指定轴上排序，把轴编号输入给 sort\n",
    "arr = np.random.randn(5,3)\n",
    "arr.sort(1)#对第一行进行排序\n",
    "#计算数组分位数，四分之一处是哪个数\n",
    "large_arr = np.random.randn(1000)\n",
    "large_arr.sort()\n",
    "large_arr[int(0.25*len(large_arr))]"
   ]
  },
  {
   "cell_type": "markdown",
   "metadata": {},
   "source": [
    "唯一化，用来去重"
   ]
  },
  {
   "cell_type": "code",
   "execution_count": 15,
   "metadata": {},
   "outputs": [
    {
     "data": {
      "text/plain": [
       "array([1, 2, 3])"
      ]
     },
     "execution_count": 15,
     "metadata": {},
     "output_type": "execute_result"
    }
   ],
   "source": [
    "ints = np.array([1,1,2,2,2,3,3])\n",
    "np.unique(ints)#相当于列表的set函数"
   ]
  },
  {
   "cell_type": "markdown",
   "metadata": {},
   "source": [
    "两个数组的集合运算"
   ]
  },
  {
   "cell_type": "code",
   "execution_count": null,
   "metadata": {},
   "outputs": [],
   "source": [
    "intersect1d（x,y）#x和 y交集，并返回有序结果\n",
    "union1d(x,y)#x和 y并集\n",
    "setdiff1d(x,y) #存在于x中，但不存在于 y中的元素\n",
    "setor1d(x,y) # 异或 存在于x  或 y 中，但不同时存在于x 和 y 中"
   ]
  }
 ],
 "metadata": {
  "kernelspec": {
   "display_name": "Python 3",
   "language": "python",
   "name": "python3"
  },
  "language_info": {
   "codemirror_mode": {
    "name": "ipython",
    "version": 3
   },
   "file_extension": ".py",
   "mimetype": "text/x-python",
   "name": "python",
   "nbconvert_exporter": "python",
   "pygments_lexer": "ipython3",
   "version": "3.7.0"
  }
 },
 "nbformat": 4,
 "nbformat_minor": 2
}
